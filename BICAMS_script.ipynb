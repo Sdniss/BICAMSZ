{
 "cells": [
  {
   "cell_type": "markdown",
   "metadata": {},
   "source": [
    "# BICAMS z-normalization"
   ]
  },
  {
   "cell_type": "markdown",
   "metadata": {},
   "source": [
    "**Objective**: Normalize raw scores on subtests of the Brief International Cognitive Assessment for Multiple Sclerosis (BICAMS) with respect to a Belgian, Dutch-speaking population\n",
    "\n",
    "**Development**: Artificial Intelligence and Modelling in clinical Sciences (AIMS) lab, Vrije Universiteit Brussel (VUB)\n",
    "\n",
    "**Reference**: [Costers et al. 2017](https://doi.org/10.1016/j.msard.2017.08.018)\n",
    "\n",
    "**More information**: \n",
    "- Entire project: `README.md`\n",
    "- [Input data, output data and conversion tables](#Additional-information)"
   ]
  },
  {
   "cell_type": "markdown",
   "metadata": {},
   "source": [
    "***"
   ]
  },
  {
   "cell_type": "markdown",
   "metadata": {},
   "source": [
    "# Preparation"
   ]
  },
  {
   "cell_type": "markdown",
   "metadata": {},
   "source": [
    "Reminder: please make sure to have the input data in following format and in `data` folder:\n",
    "- File name: 'data_to_transform.xlsx'\n",
    "- Column names in the following order:\n",
    "    - age\n",
    "    - sex\n",
    "    - education\n",
    "    - sdmt\n",
    "    - bvmt\n",
    "    - cvlt\n",
    "\n",
    "Please note that of the latter 3 columns, only 1 is an absolute requirement."
   ]
  },
  {
   "cell_type": "markdown",
   "metadata": {},
   "source": [
    "Import libraries"
   ]
  },
  {
   "cell_type": "code",
   "execution_count": 1,
   "metadata": {},
   "outputs": [],
   "source": [
    "import pandas as pd\n",
    "\n",
    "# Project-specific functions\n",
    "from functions import normalization_pipeline\n",
    "\n",
    "# Load data and conversion tables for raw-scaled conversion\n",
    "from load_data import InputData\n",
    "from load_data import ConversionTable"
   ]
  },
  {
   "cell_type": "markdown",
   "metadata": {},
   "source": [
    "Load data (either mock data or your data)"
   ]
  },
  {
   "cell_type": "code",
   "execution_count": 2,
   "metadata": {},
   "outputs": [],
   "source": [
    "input_data = InputData().data_all\n",
    "demographics = InputData().demographics\n",
    "cognitive_raw = InputData().cognitive"
   ]
  },
  {
   "cell_type": "markdown",
   "metadata": {},
   "source": [
    "Load the conversion tables"
   ]
  },
  {
   "cell_type": "code",
   "execution_count": 3,
   "metadata": {},
   "outputs": [],
   "source": [
    "conversion_table_dict = {'sdmt': ConversionTable().sdmt,\n",
    "                         'bvmt': ConversionTable().bvmt,\n",
    "                         'cvlt': ConversionTable().cvlt}"
   ]
  },
  {
   "cell_type": "markdown",
   "metadata": {},
   "source": [
    "View head of your original dataframe"
   ]
  },
  {
   "cell_type": "code",
   "execution_count": 4,
   "metadata": {},
   "outputs": [
    {
     "name": "stdout",
     "output_type": "stream",
     "text": [
      "   age  age^2  sex  education  sdmt  bvmt  cvlt\n",
      "0   52   2704    1         12    42    25    50\n",
      "1   19    361    2         21    60    20    30\n",
      "2   32   1024    2         17    85    35    70\n",
      "3   76   5776    1         12    75    10    60\n",
      "4   50   2500    1         15    65    15    60\n"
     ]
    }
   ],
   "source": [
    "print(input_data.head())"
   ]
  },
  {
   "cell_type": "markdown",
   "metadata": {},
   "source": [
    "***"
   ]
  },
  {
   "cell_type": "markdown",
   "metadata": {},
   "source": [
    "# Z normalization pipeline"
   ]
  },
  {
   "cell_type": "markdown",
   "metadata": {},
   "source": [
    "Choose the z-score cutoff where below, you want to declare an impaired score"
   ]
  },
  {
   "cell_type": "code",
   "execution_count": 5,
   "metadata": {},
   "outputs": [],
   "source": [
    "z_cutoff = -1.5"
   ]
  },
  {
   "cell_type": "markdown",
   "metadata": {},
   "source": [
    "Fill transform_matrix, containing z scores and impairment booleans (1: impaired, 0: preserved) per test included"
   ]
  },
  {
   "cell_type": "code",
   "execution_count": 6,
   "metadata": {},
   "outputs": [],
   "source": [
    "transform_matrix = []\n",
    "\n",
    "for subject in range(input_data.shape[0]):\n",
    "\n",
    "    # Initiations per subject\n",
    "    z_row = []\n",
    "    imp_row = []\n",
    "\n",
    "    for test in cognitive_raw.columns:\n",
    "\n",
    "        # Extract raw data from dataframe\n",
    "        raw_scores = cognitive_raw[test]\n",
    "\n",
    "        # Get correct conversion table\n",
    "        conv_table = conversion_table_dict.get(test)\n",
    "\n",
    "        # Calculate z-score and whether it is impaired or not for the test and subject\n",
    "        z_score, imp_bool = normalization_pipeline(data_vector = demographics.iloc[subject],\n",
    "                                                   raw_score= raw_scores.iloc[subject],\n",
    "                                                   test = test,\n",
    "                                                   conversion_table= conv_table,\n",
    "                                                   z_cutoff= z_cutoff)\n",
    "        # Append lists\n",
    "        z_row.append(z_score)\n",
    "        imp_row.append(imp_bool)\n",
    "\n",
    "    # Append to general matrix\n",
    "    transform_matrix.append(z_row + imp_row)"
   ]
  },
  {
   "cell_type": "markdown",
   "metadata": {},
   "source": [
    "Convert to pandas dataframe with new column names"
   ]
  },
  {
   "cell_type": "code",
   "execution_count": 7,
   "metadata": {},
   "outputs": [],
   "source": [
    "# Define new columnnames for dataframe\n",
    "z_score_columns = [element + '_z' for element in cognitive_raw.columns]\n",
    "imp_columns = [element + '_imp' for element in cognitive_raw.columns]\n",
    "new_columns = z_score_columns + imp_columns\n",
    "\n",
    "# Convert matrix to pandas dataframe\n",
    "transform_matrix = pd.DataFrame(data=transform_matrix,\n",
    "                                columns=new_columns)"
   ]
  },
  {
   "cell_type": "markdown",
   "metadata": {},
   "source": [
    "***"
   ]
  },
  {
   "cell_type": "markdown",
   "metadata": {},
   "source": [
    "# Merge calculations with original data"
   ]
  },
  {
   "cell_type": "markdown",
   "metadata": {},
   "source": [
    "Concatenate original data with the z-scores and impairment boolean columns"
   ]
  },
  {
   "cell_type": "code",
   "execution_count": 8,
   "metadata": {},
   "outputs": [],
   "source": [
    "transformed_data = pd.concat([input_data, transform_matrix], axis = 1)"
   ]
  },
  {
   "cell_type": "markdown",
   "metadata": {},
   "source": [
    "Save the total dataframe to data folder"
   ]
  },
  {
   "cell_type": "code",
   "execution_count": 9,
   "metadata": {},
   "outputs": [],
   "source": [
    "transformed_data.to_excel('data/transformed_data.xlsx')"
   ]
  },
  {
   "cell_type": "markdown",
   "metadata": {},
   "source": [
    "View head of your new dataframe"
   ]
  },
  {
   "cell_type": "code",
   "execution_count": 10,
   "metadata": {},
   "outputs": [
    {
     "name": "stdout",
     "output_type": "stream",
     "text": [
      "   age  age^2  sex  education  sdmt  bvmt  cvlt    sdmt_z    bvmt_z    cvlt_z  \\\n",
      "0   52   2704    1         12    42    25    50 -0.977061 -0.175797  0.644770   \n",
      "1   19    361    2         21    60    20    30 -2.450896 -3.232009 -2.078900   \n",
      "2   32   1024    2         17    85    35    70  1.974552  1.135338  2.546591   \n",
      "3   76   5776    1         12    75    10    60  2.891039 -3.759040  1.493038   \n",
      "4   50   2500    1         15    65    15    60  0.955914 -2.663802  1.351303   \n",
      "\n",
      "   sdmt_imp  bvmt_imp  cvlt_imp  \n",
      "0         0         0         0  \n",
      "1         1         1         1  \n",
      "2         0         0         0  \n",
      "3         0         1         0  \n",
      "4         0         1         0  \n"
     ]
    }
   ],
   "source": [
    "print(transformed_data.head())"
   ]
  },
  {
   "cell_type": "markdown",
   "metadata": {},
   "source": [
    "***"
   ]
  },
  {
   "cell_type": "markdown",
   "metadata": {},
   "source": [
    "# Additional information"
   ]
  },
  {
   "cell_type": "markdown",
   "metadata": {},
   "source": [
    "### Description of the input data"
   ]
  },
  {
   "cell_type": "code",
   "execution_count": 11,
   "metadata": {},
   "outputs": [
    {
     "name": "stdout",
     "output_type": "stream",
     "text": [
      "------------------------------------------------------\n",
      "Input data to be transformed: 'data_to_transform.xlsx'\n",
      "------------------------------------------------------\n",
      "Required format of the input data:\n",
      "\n",
      "The input data 'data_to_transform.csv' should contain the following features and data types:\n",
      "- age: int, age in years\n",
      "- sex: int\n",
      "    - 1: Male\n",
      "    - 2: Female\n",
      "- education: int, amount of years education\n",
      "    - 6 years: Finished primary school\n",
      "    - 12 years: Finished high school\n",
      "    - 13 years: Professional education\n",
      "    - 15 years: BSc\n",
      "    - 17 years: MSc\n",
      "    - 21 years: PhD\n",
      "\n",
      "Furthermore, the following features are optional (but at least 1 required):\n",
      "- sdmt: int, raw sdmt score to be normalised\n",
      "- bvmt: int, raw bvmt score to be normalised\n",
      "- cvlt: int, raw cvlt score to be normalised\n"
     ]
    }
   ],
   "source": [
    "print(InputData().description)"
   ]
  },
  {
   "cell_type": "markdown",
   "metadata": {},
   "source": [
    "### Description of the output data"
   ]
  },
  {
   "cell_type": "code",
   "execution_count": 12,
   "metadata": {},
   "outputs": [
    {
     "name": "stdout",
     "output_type": "stream",
     "text": [
      "-------------------------------------------------\n",
      "Output data (tranformed): 'transformed_data.xlsx'\n",
      "-------------------------------------------------\n",
      "Data description:\n",
      "\n",
      "demographics:\n",
      "- age: int, age in years\n",
      "- age^2: int, age column squared\n",
      "- sex: int\n",
      "    - 1: Male\n",
      "    - 2: Female\n",
      "- education: int, amount of years education\n",
      "    - 12 years: Finished high school\n",
      "    - 15 years: BSc\n",
      "    - 17 years: MSc\n",
      "    - 21 years: PhD\n",
      "\n",
      "raw cognitive scores:\n",
      "- sdmt: int, raw sdmt score to be normalised\n",
      "- bvmt: int, raw bvmt score to be normalised\n",
      "- cvlt: int, raw cvlt score to be normalised\n",
      "\n",
      "z-scores:\n",
      "- sdmt_z: float, z-normalized score of sdmt\n",
      "- bvmt_z: float, z-normalized score of bvmt\n",
      "- cvlt_z: float, z-normalized score of cvlt\n",
      "\n",
      "impairment booleans:\n",
      "- sdmt_imp: 1 (impaired), 0 (preserved)\n",
      "- bvmt_imp: 1 (impaired), 0 (preserved)\n",
      "- cvlt_imp: 1 (impaired), 0 (preserved)\n",
      "\n"
     ]
    }
   ],
   "source": [
    "print(open('data_descriptions/transformed_data_description.txt', 'r').read())"
   ]
  },
  {
   "cell_type": "markdown",
   "metadata": {},
   "source": [
    "### Description of the conversion tables"
   ]
  },
  {
   "cell_type": "code",
   "execution_count": 13,
   "metadata": {},
   "outputs": [
    {
     "name": "stdout",
     "output_type": "stream",
     "text": [
      "-------------------------------------------------\n",
      "Conversion tables to convert raw to scaled scores\n",
      "-------------------------------------------------\n",
      "\n",
      "Every conversion table accords with one of the 3 cognitive tests from BICAMS (SDMT, BVMT-R and CVLT-II).\n",
      "It consists of the following columns:\n",
      "- scaled_score: Categorical variable, the scaled score that accords with a raw score within the following interval lower and upper bound.\n",
      "- lower bound: lower bound of the raw score to yield a certain scaled score\n",
      "- upper bound: upper bound of the raw score to yield a certain scaled score\n",
      "\n",
      "Thus: scaled_score accords with lower_bound <= raw_score <= upper_bound\n",
      "Note: Also 'equal to' belongs to the interval between the lower and upper bounds!\n",
      "\n"
     ]
    }
   ],
   "source": [
    "print(ConversionTable().description)"
   ]
  }
 ],
 "metadata": {
  "kernelspec": {
   "display_name": "Python 3",
   "language": "python",
   "name": "python3"
  },
  "language_info": {
   "codemirror_mode": {
    "name": "ipython",
    "version": 3
   },
   "file_extension": ".py",
   "mimetype": "text/x-python",
   "name": "python",
   "nbconvert_exporter": "python",
   "pygments_lexer": "ipython3",
   "version": "3.7.7"
  }
 },
 "nbformat": 4,
 "nbformat_minor": 4
}
